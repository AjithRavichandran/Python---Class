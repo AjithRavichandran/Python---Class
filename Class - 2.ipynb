{
 "cells": [
  {
   "cell_type": "code",
   "execution_count": null,
   "id": "c64799bb-b3b7-48e7-bf81-8e33bf6f08c3",
   "metadata": {},
   "outputs": [],
   "source": [
    "from multipleFunctions_in_1Class import multipleFunctions_in_1Class"
   ]
  },
  {
   "cell_type": "code",
   "execution_count": 7,
   "id": "4938a482-0c60-4d22-ba40-62a055d87355",
   "metadata": {},
   "outputs": [
    {
     "name": "stdout",
     "output_type": "stream",
     "text": [
      "Sub - Fields in AI are :\n",
      "Machine Learning\n",
      "Neutral Network\n",
      "Vision\n",
      "Robotics\n"
     ]
    }
   ],
   "source": [
    "multipleFunctions_in_1Class.SubfiedsInAI()"
   ]
  },
  {
   "cell_type": "code",
   "execution_count": 3,
   "id": "b5a526d9-ac41-4ada-83a4-01282669a781",
   "metadata": {},
   "outputs": [
    {
     "name": "stdin",
     "output_type": "stream",
     "text": [
      "Enter the number:  21\n"
     ]
    },
    {
     "name": "stdout",
     "output_type": "stream",
     "text": [
      "21 is odd number\n"
     ]
    }
   ],
   "source": [
    "multipleFunctions_in_1Class.oddEven()"
   ]
  },
  {
   "cell_type": "code",
   "execution_count": 6,
   "id": "5b58ba45-9c04-4735-9e9f-e49705869a66",
   "metadata": {},
   "outputs": [
    {
     "name": "stdin",
     "output_type": "stream",
     "text": [
      "Your Gender: male\n",
      "Your age: 20\n"
     ]
    },
    {
     "name": "stdout",
     "output_type": "stream",
     "text": [
      "NOT ELIGIBILE\n"
     ]
    }
   ],
   "source": [
    "multipleFunctions_in_1Class.Elegible()"
   ]
  },
  {
   "cell_type": "code",
   "execution_count": 8,
   "id": "e1f87266-2809-4399-bd39-44830d03da28",
   "metadata": {},
   "outputs": [
    {
     "name": "stdin",
     "output_type": "stream",
     "text": [
      "Enter your subject1 mark 97\n",
      "Enter your subject2 mark 97\n",
      "Enter your subject3 mark 95\n",
      "Enter your subject4 mark 95\n",
      "Enter your subject5 mark 83\n"
     ]
    },
    {
     "name": "stdout",
     "output_type": "stream",
     "text": [
      "Total : 467\n",
      "Percentage : 93.4\n"
     ]
    }
   ],
   "source": [
    "multipleFunctions_in_1Class.Percentage()"
   ]
  },
  {
   "cell_type": "code",
   "execution_count": 9,
   "id": "3e8fc699-e90e-4497-82ba-00b6763bf4e5",
   "metadata": {},
   "outputs": [
    {
     "name": "stdin",
     "output_type": "stream",
     "text": [
      "Enter the Height: 32\n",
      "Enter the Breadth: 34\n"
     ]
    },
    {
     "name": "stdout",
     "output_type": "stream",
     "text": [
      "Area formula:(Height*Breadth)/2\n",
      "Area of Triangle:544.0\n"
     ]
    }
   ],
   "source": [
    "multipleFunctions_in_1Class.triangle()"
   ]
  },
  {
   "cell_type": "code",
   "execution_count": 10,
   "id": "d2db3008-7a2c-481f-a77d-f4aaa11f36aa",
   "metadata": {},
   "outputs": [
    {
     "name": "stdin",
     "output_type": "stream",
     "text": [
      "Enter the Height1: 2\n",
      "Enter the Height2: 2\n",
      "Enter the Breadth: 4\n"
     ]
    },
    {
     "name": "stdout",
     "output_type": "stream",
     "text": [
      "Perimeter formula: Height1+Height2+Breadth\n",
      "perimeter of Trainagle: 8\n"
     ]
    }
   ],
   "source": [
    "multipleFunctions_in_1Class.triangle2()"
   ]
  },
  {
   "cell_type": "code",
   "execution_count": null,
   "id": "97454c04-04dd-486d-802d-09311715ff3f",
   "metadata": {},
   "outputs": [],
   "source": []
  }
 ],
 "metadata": {
  "kernelspec": {
   "display_name": "Python 3 (ipykernel)",
   "language": "python",
   "name": "python3"
  },
  "language_info": {
   "codemirror_mode": {
    "name": "ipython",
    "version": 3
   },
   "file_extension": ".py",
   "mimetype": "text/x-python",
   "name": "python",
   "nbconvert_exporter": "python",
   "pygments_lexer": "ipython3",
   "version": "3.12.4"
  }
 },
 "nbformat": 4,
 "nbformat_minor": 5
}
